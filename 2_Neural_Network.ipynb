{
  "nbformat": 4,
  "nbformat_minor": 0,
  "metadata": {
    "colab": {
      "provenance": [],
      "authorship_tag": "ABX9TyOIkM+DuXX9hbTRDLUZE3gC",
      "include_colab_link": true
    },
    "kernelspec": {
      "name": "python3",
      "display_name": "Python 3"
    },
    "language_info": {
      "name": "python"
    }
  },
  "cells": [
    {
      "cell_type": "markdown",
      "metadata": {
        "id": "view-in-github",
        "colab_type": "text"
      },
      "source": [
        "<a href=\"https://colab.research.google.com/github/fredyah/mytorchscript/blob/main/2_Neural_Network.ipynb\" target=\"_parent\"><img src=\"https://colab.research.google.com/assets/colab-badge.svg\" alt=\"Open In Colab\"/></a>"
      ]
    },
    {
      "cell_type": "code",
      "execution_count": 1,
      "metadata": {
        "id": "bDc4TxD8i_Xn"
      },
      "outputs": [],
      "source": [
        "import torch\n",
        "import torch.nn as nn\n",
        "import torch.nn.functional as F"
      ]
    },
    {
      "cell_type": "code",
      "source": [
        "## 建立一個 Model Class nn.Moudle 用於繼承  ( Create a Model Class that inherits nn.Module )\n",
        "'''\n",
        "鳶尾花\n",
        "Input layer：( 4 features of the flower )\n",
        "1. 花萼長度(Sepal Length)：計算單位是公分。\n",
        "2. 花萼寬度(Sepal Width)：計算單位是公分。\n",
        "3. 花瓣長度(Petal Length) ：計算單位是公分。\n",
        "4. 花瓣寬度(Petal Width)：計算單位是公分。\n",
        "---------------------------------\n",
        "\n",
        "神經網絡：( Hidden Layer number of neurons )\n",
        "H1 = 8\n",
        "H2 = 9\n",
        "---------------------------------\n",
        "\n",
        "output ( 3 classes of iris flowers )\n",
        "類別(Class)：可分為Setosa，Versicolor和Virginica三個品種\n",
        "\n",
        "'''\n",
        "\n",
        "class Model(nn.Module):\n",
        "\n",
        "  def __init__(self, in_features=4, h1=8, h2=9, out_features=3)"
      ],
      "metadata": {
        "colab": {
          "base_uri": "https://localhost:8080/",
          "height": 106
        },
        "id": "WNZutKekjR3P",
        "outputId": "f4e15550-d45c-46a4-aaa3-c80f6d6a2e94"
      },
      "execution_count": 2,
      "outputs": [
        {
          "output_type": "error",
          "ename": "SyntaxError",
          "evalue": "expected ':' (<ipython-input-2-3f1c2c9e15d1>, line 12)",
          "traceback": [
            "\u001b[0;36m  File \u001b[0;32m\"<ipython-input-2-3f1c2c9e15d1>\"\u001b[0;36m, line \u001b[0;32m12\u001b[0m\n\u001b[0;31m    def __init__(self, in_features=4, h1=8, h2=9, out_features=3)\u001b[0m\n\u001b[0m                                                                 ^\u001b[0m\n\u001b[0;31mSyntaxError\u001b[0m\u001b[0;31m:\u001b[0m expected ':'\n"
          ]
        }
      ]
    }
  ]
}