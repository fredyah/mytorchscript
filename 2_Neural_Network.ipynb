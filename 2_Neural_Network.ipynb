{
  "nbformat": 4,
  "nbformat_minor": 0,
  "metadata": {
    "colab": {
      "provenance": [],
      "authorship_tag": "ABX9TyNOTwtzeJb6+W9B/QR3nHhp",
      "include_colab_link": true
    },
    "kernelspec": {
      "name": "python3",
      "display_name": "Python 3"
    },
    "language_info": {
      "name": "python"
    }
  },
  "cells": [
    {
      "cell_type": "markdown",
      "metadata": {
        "id": "view-in-github",
        "colab_type": "text"
      },
      "source": [
        "<a href=\"https://colab.research.google.com/github/fredyah/mytorchscript/blob/main/2_Neural_Network.ipynb\" target=\"_parent\"><img src=\"https://colab.research.google.com/assets/colab-badge.svg\" alt=\"Open In Colab\"/></a>"
      ]
    },
    {
      "cell_type": "code",
      "execution_count": 26,
      "metadata": {
        "id": "bDc4TxD8i_Xn"
      },
      "outputs": [],
      "source": [
        "import torch\n",
        "import torch.nn as nn\n",
        "import torch.nn.functional as F\n",
        "import pandas as pd\n",
        "import matplotlib.pyplot as plt"
      ]
    },
    {
      "cell_type": "code",
      "source": [
        "## 建立一個 Model Class nn.Moudle 用於繼承  ( Create a Model Class that inherits nn.Module )\n",
        "'''\n",
        "鳶尾花\n",
        "Input layer：( 4 features of the flower )\n",
        "1. 花萼長度(Sepal Length)：計算單位是公分。\n",
        "2. 花萼寬度(Sepal Width)：計算單位是公分。\n",
        "3. 花瓣長度(Petal Length) ：計算單位是公分。\n",
        "4. 花瓣寬度(Petal Width)：計算單位是公分。\n",
        "---------------------------------\n",
        "\n",
        "神經網絡：( Hidden Layer number of neurons )\n",
        "H1 = 8\n",
        "H2 = 9\n",
        "---------------------------------\n",
        "\n",
        "output ( 3 classes of iris flowers )\n",
        "類別(Class)：可分為Setosa，Versicolor和Virginica三個品種\n",
        "\n",
        "'''\n",
        "\n",
        "class Model(nn.Module):\n",
        "\n",
        "  def __init__(self, in_features=4, h1=8, h2=9, out_features=3):\n",
        "    ## fc -> fully connected layer，也可稱為線性層 Linear Layer\n",
        "    ## 以下表示將 in_features 全連接到 h1, 再將 H1 全連接到 H2，再將 H2 全連接到 output\n",
        "    super().__init__() ## instantiate our nn.Module\n",
        "    self.fc1 = nn.Linear(in_features, h1)\n",
        "    self.fc2 = nn.Linear(in_features, h2)\n",
        "    self.out = nn.Linear(h2, out_features)\n",
        "\n",
        "  def forward(self, x):\n",
        "    '''\n",
        "    relu -> Rectified Linear Unit\n",
        "    將 x 代入 fc1, 得到的結果代入 fc2，最後再把結果代入 out ，進行輸出\n",
        "    '''\n",
        "    x = F.relu(self.fc1(x))\n",
        "    x = F.relu(self.fc2(x))\n",
        "    x = self.out(x)\n",
        "\n",
        "    return x"
      ],
      "metadata": {
        "id": "WNZutKekjR3P"
      },
      "execution_count": 27,
      "outputs": []
    },
    {
      "cell_type": "code",
      "source": [
        "## 選擇種子數，讓隨機數值可以固定,使結果可重複 ( Pick a manual seed for randomiztion )\n",
        "torch.manual_seed(41)\n",
        "model = Model()"
      ],
      "metadata": {
        "id": "rjWUo034sCGr"
      },
      "execution_count": 28,
      "outputs": []
    },
    {
      "cell_type": "code",
      "source": [
        "## plt 繪圖\n",
        "## 導入 iris.csv\n",
        "\n",
        "url = 'https://gist.githubusercontent.com/netj/8836201/raw/6f9306ad21398ea43cba4f7d537619d0e07d5ae3/iris.csv'\n",
        "my_df = pd.read_csv(url)\n",
        "print(my_df)"
      ],
      "metadata": {
        "colab": {
          "base_uri": "https://localhost:8080/"
        },
        "id": "mfWy4H9FuDGO",
        "outputId": "46a4c468-7d69-4d6e-faa4-e097699c88d2"
      },
      "execution_count": 29,
      "outputs": [
        {
          "output_type": "stream",
          "name": "stdout",
          "text": [
            "     sepal.length  sepal.width  petal.length  petal.width    variety\n",
            "0             5.1          3.5           1.4          0.2     Setosa\n",
            "1             4.9          3.0           1.4          0.2     Setosa\n",
            "2             4.7          3.2           1.3          0.2     Setosa\n",
            "3             4.6          3.1           1.5          0.2     Setosa\n",
            "4             5.0          3.6           1.4          0.2     Setosa\n",
            "..            ...          ...           ...          ...        ...\n",
            "145           6.7          3.0           5.2          2.3  Virginica\n",
            "146           6.3          2.5           5.0          1.9  Virginica\n",
            "147           6.5          3.0           5.2          2.0  Virginica\n",
            "148           6.2          3.4           5.4          2.3  Virginica\n",
            "149           5.9          3.0           5.1          1.8  Virginica\n",
            "\n",
            "[150 rows x 5 columns]\n"
          ]
        }
      ]
    },
    {
      "cell_type": "code",
      "source": [
        "## 將 Variety 數值化：\n",
        "\n",
        "my_df['variety'] = my_df['variety'].replace('Setosa', 0.0)\n",
        "my_df['variety'] = my_df['variety'].replace('Versicolor', 1.0)\n",
        "my_df['variety'] = my_df['variety'].replace('Virginica', 2.0)\n",
        "print(my_df)"
      ],
      "metadata": {
        "colab": {
          "base_uri": "https://localhost:8080/"
        },
        "id": "r1o5fBzRuww_",
        "outputId": "c447cb5e-f4ce-4868-d786-d43ffff79ee4"
      },
      "execution_count": 30,
      "outputs": [
        {
          "output_type": "stream",
          "name": "stdout",
          "text": [
            "     sepal.length  sepal.width  petal.length  petal.width  variety\n",
            "0             5.1          3.5           1.4          0.2      0.0\n",
            "1             4.9          3.0           1.4          0.2      0.0\n",
            "2             4.7          3.2           1.3          0.2      0.0\n",
            "3             4.6          3.1           1.5          0.2      0.0\n",
            "4             5.0          3.6           1.4          0.2      0.0\n",
            "..            ...          ...           ...          ...      ...\n",
            "145           6.7          3.0           5.2          2.3      2.0\n",
            "146           6.3          2.5           5.0          1.9      2.0\n",
            "147           6.5          3.0           5.2          2.0      2.0\n",
            "148           6.2          3.4           5.4          2.3      2.0\n",
            "149           5.9          3.0           5.1          1.8      2.0\n",
            "\n",
            "[150 rows x 5 columns]\n"
          ]
        }
      ]
    }
  ]
}