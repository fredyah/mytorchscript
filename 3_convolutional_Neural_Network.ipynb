{
  "nbformat": 4,
  "nbformat_minor": 0,
  "metadata": {
    "colab": {
      "provenance": [],
      "authorship_tag": "ABX9TyPHAb05oUnzZl+IVNCUW0XB",
      "include_colab_link": true
    },
    "kernelspec": {
      "name": "python3",
      "display_name": "Python 3"
    },
    "language_info": {
      "name": "python"
    }
  },
  "cells": [
    {
      "cell_type": "markdown",
      "metadata": {
        "id": "view-in-github",
        "colab_type": "text"
      },
      "source": [
        "<a href=\"https://colab.research.google.com/github/fredyah/mytorchscript/blob/main/3_convolutional_Neural_Network.ipynb\" target=\"_parent\"><img src=\"https://colab.research.google.com/assets/colab-badge.svg\" alt=\"Open In Colab\"/></a>"
      ]
    },
    {
      "cell_type": "code",
      "execution_count": 2,
      "metadata": {
        "id": "uP12K2wSvMJ5"
      },
      "outputs": [],
      "source": [
        "import torch\n",
        "import torch.nn as nn\n",
        "import torch.nn.functional as F\n",
        "from torch.utils.data import DataLoader\n",
        "from torchvision import datasets, transforms\n",
        "from torchvision.utils import make_grid\n",
        "\n",
        "import numpy as np\n",
        "import pandas as pd\n",
        "from sklearn.metrics import confusion_matrix\n",
        "import matplotlib.pyplot as plt\n",
        "%matplotlib inline\n"
      ]
    },
    {
      "cell_type": "code",
      "source": [
        "## Convert MNIST Image Files into a Tensor of 4-Dimensions ( of images, Height, Width, Color Channel )\n",
        "\n",
        "transform = transforms.ToTensor()\n"
      ],
      "metadata": {
        "id": "JiWiK5I39lis"
      },
      "execution_count": 3,
      "outputs": []
    },
    {
      "cell_type": "code",
      "source": [
        "## Train Data\n",
        "\n",
        "train_data = datasets.MNIST('/cnn_data', train=True, download=True, transform=transform)"
      ],
      "metadata": {
        "colab": {
          "base_uri": "https://localhost:8080/"
        },
        "id": "bgACCTU5-hdo",
        "outputId": "2e657771-278e-4287-bea0-36c6f4047401"
      },
      "execution_count": 5,
      "outputs": [
        {
          "output_type": "stream",
          "name": "stdout",
          "text": [
            "Downloading http://yann.lecun.com/exdb/mnist/train-images-idx3-ubyte.gz\n",
            "Failed to download (trying next):\n",
            "HTTP Error 403: Forbidden\n",
            "\n",
            "Downloading https://ossci-datasets.s3.amazonaws.com/mnist/train-images-idx3-ubyte.gz\n",
            "Downloading https://ossci-datasets.s3.amazonaws.com/mnist/train-images-idx3-ubyte.gz to /cnn_data/MNIST/raw/train-images-idx3-ubyte.gz\n"
          ]
        },
        {
          "output_type": "stream",
          "name": "stderr",
          "text": [
            "100%|██████████| 9912422/9912422 [00:00<00:00, 15613402.34it/s]\n"
          ]
        },
        {
          "output_type": "stream",
          "name": "stdout",
          "text": [
            "Extracting /cnn_data/MNIST/raw/train-images-idx3-ubyte.gz to /cnn_data/MNIST/raw\n",
            "\n",
            "Downloading http://yann.lecun.com/exdb/mnist/train-labels-idx1-ubyte.gz\n",
            "Failed to download (trying next):\n",
            "HTTP Error 403: Forbidden\n",
            "\n",
            "Downloading https://ossci-datasets.s3.amazonaws.com/mnist/train-labels-idx1-ubyte.gz\n",
            "Downloading https://ossci-datasets.s3.amazonaws.com/mnist/train-labels-idx1-ubyte.gz to /cnn_data/MNIST/raw/train-labels-idx1-ubyte.gz\n"
          ]
        },
        {
          "output_type": "stream",
          "name": "stderr",
          "text": [
            "100%|██████████| 28881/28881 [00:00<00:00, 481850.20it/s]\n"
          ]
        },
        {
          "output_type": "stream",
          "name": "stdout",
          "text": [
            "Extracting /cnn_data/MNIST/raw/train-labels-idx1-ubyte.gz to /cnn_data/MNIST/raw\n",
            "\n",
            "Downloading http://yann.lecun.com/exdb/mnist/t10k-images-idx3-ubyte.gz\n",
            "Failed to download (trying next):\n",
            "HTTP Error 403: Forbidden\n",
            "\n",
            "Downloading https://ossci-datasets.s3.amazonaws.com/mnist/t10k-images-idx3-ubyte.gz\n",
            "Downloading https://ossci-datasets.s3.amazonaws.com/mnist/t10k-images-idx3-ubyte.gz to /cnn_data/MNIST/raw/t10k-images-idx3-ubyte.gz\n"
          ]
        },
        {
          "output_type": "stream",
          "name": "stderr",
          "text": [
            "100%|██████████| 1648877/1648877 [00:00<00:00, 4428174.15it/s]\n"
          ]
        },
        {
          "output_type": "stream",
          "name": "stdout",
          "text": [
            "Extracting /cnn_data/MNIST/raw/t10k-images-idx3-ubyte.gz to /cnn_data/MNIST/raw\n",
            "\n",
            "Downloading http://yann.lecun.com/exdb/mnist/t10k-labels-idx1-ubyte.gz\n",
            "Failed to download (trying next):\n",
            "HTTP Error 403: Forbidden\n",
            "\n",
            "Downloading https://ossci-datasets.s3.amazonaws.com/mnist/t10k-labels-idx1-ubyte.gz\n",
            "Downloading https://ossci-datasets.s3.amazonaws.com/mnist/t10k-labels-idx1-ubyte.gz to /cnn_data/MNIST/raw/t10k-labels-idx1-ubyte.gz\n"
          ]
        },
        {
          "output_type": "stream",
          "name": "stderr",
          "text": [
            "100%|██████████| 4542/4542 [00:00<00:00, 3498719.70it/s]\n"
          ]
        },
        {
          "output_type": "stream",
          "name": "stdout",
          "text": [
            "Extracting /cnn_data/MNIST/raw/t10k-labels-idx1-ubyte.gz to /cnn_data/MNIST/raw\n",
            "\n"
          ]
        }
      ]
    },
    {
      "cell_type": "code",
      "source": [
        "## Test Data\n",
        "\n",
        "test_data = datasets.MNIST('/cnn_data', train=False, download=True, transform=transform)"
      ],
      "metadata": {
        "id": "ycXlGvEQ_Lti"
      },
      "execution_count": 7,
      "outputs": []
    },
    {
      "cell_type": "code",
      "source": [
        "print(train_data)\n",
        "print()\n",
        "print(test_data)"
      ],
      "metadata": {
        "colab": {
          "base_uri": "https://localhost:8080/"
        },
        "id": "xXuRzrC8_wa6",
        "outputId": "7ec73317-6896-4707-9078-f670ec9abc48"
      },
      "execution_count": 10,
      "outputs": [
        {
          "output_type": "stream",
          "name": "stdout",
          "text": [
            "Dataset MNIST\n",
            "    Number of datapoints: 60000\n",
            "    Root location: /cnn_data\n",
            "    Split: Train\n",
            "    StandardTransform\n",
            "Transform: ToTensor()\n",
            "\n",
            "Dataset MNIST\n",
            "    Number of datapoints: 10000\n",
            "    Root location: /cnn_data\n",
            "    Split: Test\n",
            "    StandardTransform\n",
            "Transform: ToTensor()\n"
          ]
        }
      ]
    },
    {
      "cell_type": "code",
      "source": [
        "pwd\n"
      ],
      "metadata": {
        "colab": {
          "base_uri": "https://localhost:8080/",
          "height": 36
        },
        "id": "t2msPbv5AXjZ",
        "outputId": "8ba1e91a-e43f-4167-cbd7-2d1a2ea0cf31"
      },
      "execution_count": 14,
      "outputs": [
        {
          "output_type": "execute_result",
          "data": {
            "text/plain": [
              "'/content'"
            ],
            "application/vnd.google.colaboratory.intrinsic+json": {
              "type": "string"
            }
          },
          "metadata": {},
          "execution_count": 14
        }
      ]
    },
    {
      "cell_type": "code",
      "source": [
        "## Create a small batch size for image\n",
        "##  Batch size為批次的尺寸或稱作批次的大小，表示我們在讓機器學習資料集的知識時，一次是對多少筆資料做觀察整理的，然後對於這些資料的結論去做資料調整\n",
        "'''\n",
        "在使用 PyTorch 構建和訓練卷積神經網絡（CNN）時，shuffle 參數主要出現在數據加載器（DataLoader）中。它的作用是指示是否在每個 epoch 開始時將數據集的順序打亂。這對於提升模型的泛化能力非常重要。\n",
        "\n",
        "為什麼需要 Shuffle？\n",
        "打破數據集的順序依賴性：在許多數據集中，數據的排列順序可能具有某種模式或結構。如果模型總是按照固定的順序看到數據，可能會導致學習到無用的模式或過擬合特定的數據順序。\n",
        "提高泛化能力：隨機打亂數據有助於模型更全面地學習數據分佈，從而提高對未見數據的泛化能力。\n",
        "避免局部依賴性：通過打亂數據順序，可以確保每個小批量（batch）中的數據樣本是隨機的，減少局部依賴性，進一步提高訓練的穩定性。\n",
        "'''\n",
        "\n",
        "trans_loader = DataLoader(train_data, batch_size=10, shuffle=True)\n",
        "test_loader = DataLoader(test_data, batch_size=10, shuffle=False)"
      ],
      "metadata": {
        "id": "DB25zLe0BKK3"
      },
      "execution_count": 21,
      "outputs": []
    },
    {
      "cell_type": "code",
      "source": [
        "## Define Our CNN Model\n",
        "## Describe convolutional layer and what it's doing ( 2 convolutional layers )\n",
        "\n",
        "conv1 = nn.Conv2d(in_channels=1, out_channels=6, kernel_size=3, stride=1)\n",
        "conv2 = nn.Conv2d(in_channels=6, out_channels=16, kernel_size=3, stride=1)\n"
      ],
      "metadata": {
        "id": "8Dx_Iw42Cxp1"
      },
      "execution_count": 22,
      "outputs": []
    },
    {
      "cell_type": "code",
      "source": [
        "## Grab 1 MNIST record/image\n",
        "\n",
        "for i, (X_Train, y_train) in enumerate(train_data):\n",
        "  break\n"
      ],
      "metadata": {
        "id": "HZs5h0foDVdN"
      },
      "execution_count": 23,
      "outputs": []
    },
    {
      "cell_type": "code",
      "source": [
        "X_Train.shape"
      ],
      "metadata": {
        "colab": {
          "base_uri": "https://localhost:8080/"
        },
        "id": "twZ_N8QPEHvu",
        "outputId": "def33d15-533b-49aa-9851-acc7121986a0"
      },
      "execution_count": 27,
      "outputs": [
        {
          "output_type": "execute_result",
          "data": {
            "text/plain": [
              "torch.Size([1, 28, 28])"
            ]
          },
          "metadata": {},
          "execution_count": 27
        }
      ]
    },
    {
      "cell_type": "code",
      "source": [
        "## 將 X_Train 轉換為 1 batch, 1 image, 長寬各為 28\n",
        "\n",
        "X = X_Train.view(1, 1, 28, 28)\n",
        "\n"
      ],
      "metadata": {
        "id": "kbtTej55FLpl"
      },
      "execution_count": 35,
      "outputs": []
    },
    {
      "cell_type": "code",
      "source": [
        "## Perform Our First Convolution\n",
        "\n",
        "x = F.relu(conv1(X))  ## Rectified Linear Unit for our activation function\n",
        "print(x.shape)\n",
        "\n",
        "## [1, 6, 26, 26]\n",
        "## 1 image\n",
        "## 6 output\n",
        "## 26 heigh\n",
        "## 26 width\n"
      ],
      "metadata": {
        "colab": {
          "base_uri": "https://localhost:8080/"
        },
        "id": "-0SiUHIRGE1y",
        "outputId": "a64fbe77-634c-40e2-ebba-19666ac2db10"
      },
      "execution_count": 47,
      "outputs": [
        {
          "output_type": "stream",
          "name": "stdout",
          "text": [
            "torch.Size([1, 6, 26, 26])\n"
          ]
        }
      ]
    },
    {
      "cell_type": "code",
      "source": [
        "## pass thru the pooling layer\n",
        "'''\n",
        "After Pooling, image size is reduced to 13*13\n",
        "\n",
        "'''\n",
        "\n",
        "x = F.max_pool2d(input=x, kernel_size=2, stride=2)\n",
        "print(x.shape)\n",
        "\n"
      ],
      "metadata": {
        "colab": {
          "base_uri": "https://localhost:8080/"
        },
        "id": "ZV7DKOlqGj_h",
        "outputId": "d2642506-5886-4270-963d-fb9c27eb20fa"
      },
      "execution_count": 48,
      "outputs": [
        {
          "output_type": "stream",
          "name": "stdout",
          "text": [
            "torch.Size([1, 6, 13, 13])\n"
          ]
        }
      ]
    },
    {
      "cell_type": "code",
      "source": [
        "## Do our second convolutional layer\n",
        "'''\n",
        "After Second Convolution, image size is reduced to 11*11\n",
        "'''\n",
        "\n",
        "\n",
        "x = F.relu(conv2(x))\n",
        "\n",
        "print(x.shape)\n",
        "\n"
      ],
      "metadata": {
        "colab": {
          "base_uri": "https://localhost:8080/"
        },
        "id": "Yg7zJmkfKfmo",
        "outputId": "78abb671-60bf-45b1-a99a-9dfed918e0bb"
      },
      "execution_count": 49,
      "outputs": [
        {
          "output_type": "stream",
          "name": "stdout",
          "text": [
            "torch.Size([1, 16, 11, 11])\n"
          ]
        }
      ]
    },
    {
      "cell_type": "code",
      "source": [
        "## pass thru the pooling layer\n",
        "'''\n",
        "After Pooling, image size is reduced to 5*5\n",
        "\n",
        "11/2 = 5.5, but we have to round down to 5, because you can't invent data to round up\n",
        "\n",
        "'''\n",
        "\n",
        "x = F.max_pool2d(input=x, kernel_size=2, stride=2)\n",
        "print(x.shape)"
      ],
      "metadata": {
        "colab": {
          "base_uri": "https://localhost:8080/"
        },
        "id": "LvwtaRurLA3v",
        "outputId": "e17fad99-0993-44b2-e25a-029109eaa5e2"
      },
      "execution_count": 50,
      "outputs": [
        {
          "output_type": "stream",
          "name": "stdout",
          "text": [
            "torch.Size([1, 16, 5, 5])\n"
          ]
        }
      ]
    },
    {
      "cell_type": "code",
      "source": [],
      "metadata": {
        "id": "G4CVKMDbLySI"
      },
      "execution_count": null,
      "outputs": []
    }
  ]
}