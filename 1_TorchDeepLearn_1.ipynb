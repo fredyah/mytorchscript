{
  "nbformat": 4,
  "nbformat_minor": 0,
  "metadata": {
    "colab": {
      "provenance": [],
      "authorship_tag": "ABX9TyNITWstNZpyRzLEFPbrnmnW",
      "include_colab_link": true
    },
    "kernelspec": {
      "name": "python3",
      "display_name": "Python 3"
    },
    "language_info": {
      "name": "python"
    }
  },
  "cells": [
    {
      "cell_type": "markdown",
      "metadata": {
        "id": "view-in-github",
        "colab_type": "text"
      },
      "source": [
        "<a href=\"https://colab.research.google.com/github/fredyah/mytorchscript/blob/main/1_TorchDeepLearn_1.ipynb\" target=\"_parent\"><img src=\"https://colab.research.google.com/assets/colab-badge.svg\" alt=\"Open In Colab\"/></a>"
      ]
    },
    {
      "cell_type": "code",
      "execution_count": 3,
      "metadata": {
        "id": "sPo90Pdu2h-i"
      },
      "outputs": [],
      "source": [
        "import torch\n",
        "import numpy as np\n",
        "\n",
        "\n"
      ]
    },
    {
      "cell_type": "code",
      "source": [
        "## Numpy建立矩陣的方式：(float64)\n",
        "\n",
        "np1 = np.random.rand(3, 4)\n",
        "print(np1)\n",
        "print(np1.dtype)"
      ],
      "metadata": {
        "colab": {
          "base_uri": "https://localhost:8080/"
        },
        "id": "0GBhFGPq4hSM",
        "outputId": "083cebf6-4707-480c-a890-a9ddab279fb6"
      },
      "execution_count": 4,
      "outputs": [
        {
          "output_type": "stream",
          "name": "stdout",
          "text": [
            "[[0.13754129 0.36274739 0.00127834 0.14970044]\n",
            " [0.96515875 0.63128582 0.7800275  0.89041331]\n",
            " [0.76484345 0.77622066 0.94434618 0.16834999]]\n",
            "float64\n"
          ]
        }
      ]
    },
    {
      "cell_type": "code",
      "source": [
        "## Torch 建立矩陣的方式：(預設為float32)\n",
        "\n",
        "tensor_2d = torch.randn(3,4)\n",
        "print(tensor_2d)\n",
        "print(tensor_2d.dtype)\n",
        "\n",
        "tensor_3d = torch.zeros(2, 3, 4)\n",
        "print(tensor_3d)\n",
        "print(tensor_3d.dtype)"
      ],
      "metadata": {
        "colab": {
          "base_uri": "https://localhost:8080/"
        },
        "id": "mAKGJuIc4zT5",
        "outputId": "1a6abd56-1863-45e0-aa78-70dbf9294766"
      },
      "execution_count": 5,
      "outputs": [
        {
          "output_type": "stream",
          "name": "stdout",
          "text": [
            "tensor([[-0.2359,  1.4749, -1.2741,  0.7571],\n",
            "        [-0.8932, -0.1832, -0.2064, -0.0042],\n",
            "        [-0.4828, -0.3397,  1.9388, -0.8402]])\n",
            "torch.float32\n",
            "tensor([[[0., 0., 0., 0.],\n",
            "         [0., 0., 0., 0.],\n",
            "         [0., 0., 0., 0.]],\n",
            "\n",
            "        [[0., 0., 0., 0.],\n",
            "         [0., 0., 0., 0.],\n",
            "         [0., 0., 0., 0.]]])\n",
            "torch.float32\n"
          ]
        }
      ]
    },
    {
      "cell_type": "code",
      "source": [
        "## 將其他矩陣轉換成tensor矩陣\n",
        "\n",
        "my_tensor = torch.tensor(np1)\n",
        "print(my_tensor)\n",
        "print(my_tensor.dtype)\n"
      ],
      "metadata": {
        "colab": {
          "base_uri": "https://localhost:8080/"
        },
        "id": "O1QJkfgZ6kyY",
        "outputId": "07665449-65b8-42cd-bac2-c496e280d035"
      },
      "execution_count": 6,
      "outputs": [
        {
          "output_type": "stream",
          "name": "stdout",
          "text": [
            "tensor([[0.1375, 0.3627, 0.0013, 0.1497],\n",
            "        [0.9652, 0.6313, 0.7800, 0.8904],\n",
            "        [0.7648, 0.7762, 0.9443, 0.1683]], dtype=torch.float64)\n",
            "torch.float64\n"
          ]
        }
      ]
    },
    {
      "cell_type": "code",
      "source": [
        "## 生成一維張量的方式\n",
        "\n",
        "my_torch = torch.arange(10)\n",
        "print(my_torch)\n",
        "print(my_torch.dtype)\n",
        "\n",
        "my_torch = my_torch.reshape(2, 5)\n",
        "print(my_torch)\n",
        "print(my_torch.dtype)"
      ],
      "metadata": {
        "colab": {
          "base_uri": "https://localhost:8080/"
        },
        "id": "X8vvyBqZ9HGd",
        "outputId": "cbce3eea-3917-4caf-82b9-140eaba276e4"
      },
      "execution_count": 7,
      "outputs": [
        {
          "output_type": "stream",
          "name": "stdout",
          "text": [
            "tensor([0, 1, 2, 3, 4, 5, 6, 7, 8, 9])\n",
            "torch.int64\n",
            "tensor([[0, 1, 2, 3, 4],\n",
            "        [5, 6, 7, 8, 9]])\n",
            "torch.int64\n"
          ]
        }
      ]
    },
    {
      "cell_type": "code",
      "source": [
        "## 另一種reshape方式，可避免錯誤(使用-1，程式會自動判斷數量)\n",
        "\n",
        "my_torch_2 = torch.arange(10)\n",
        "my_torch_2 = my_torch.reshape(2, -1)\n",
        "print(my_torch_2)\n",
        "print(my_torch_2.dtype)\n",
        "\n",
        "\n",
        "my_torch_3 = torch.arange(16)\n",
        "my_torch_3 = my_torch_3.reshape(2, -1, 2)\n",
        "print(my_torch_3)\n",
        "print(my_torch_3.dtype)"
      ],
      "metadata": {
        "colab": {
          "base_uri": "https://localhost:8080/"
        },
        "id": "1pFkb2tF_3ar",
        "outputId": "1860d534-170e-473f-fd34-06854358d91b"
      },
      "execution_count": 8,
      "outputs": [
        {
          "output_type": "stream",
          "name": "stdout",
          "text": [
            "tensor([[0, 1, 2, 3, 4],\n",
            "        [5, 6, 7, 8, 9]])\n",
            "torch.int64\n",
            "tensor([[[ 0,  1],\n",
            "         [ 2,  3],\n",
            "         [ 4,  5],\n",
            "         [ 6,  7]],\n",
            "\n",
            "        [[ 8,  9],\n",
            "         [10, 11],\n",
            "         [12, 13],\n",
            "         [14, 15]]])\n",
            "torch.int64\n"
          ]
        }
      ]
    },
    {
      "cell_type": "code",
      "source": [
        "## View和reshape有點類似，用法如下：(使用view可以避免複製，更省內存，若是張量不連續，可加contiguous  --  .contiguous().view() )\n",
        "\n",
        "my_torch_5 = torch.arange(10)\n",
        "my_torch_5 = my_torch_5.view(2, 5)  ## my_torch_5.contiguous().view(2, 5)\n",
        "print(my_torch_5)"
      ],
      "metadata": {
        "colab": {
          "base_uri": "https://localhost:8080/"
        },
        "id": "Bg10SOsrM_FJ",
        "outputId": "8ebfe66a-2b07-485d-9115-27d312273899"
      },
      "execution_count": 9,
      "outputs": [
        {
          "output_type": "stream",
          "name": "stdout",
          "text": [
            "tensor([[0, 1, 2, 3, 4],\n",
            "        [5, 6, 7, 8, 9]])\n"
          ]
        }
      ]
    },
    {
      "cell_type": "code",
      "source": [
        "print(my_torch_5[0, -2])\n",
        "\n",
        "print(my_torch_5[0, 2])\n",
        "my_torch_5[0, 2] = 1080\n",
        "print(my_torch_5)"
      ],
      "metadata": {
        "colab": {
          "base_uri": "https://localhost:8080/"
        },
        "id": "2YIB-k3gQ8bj",
        "outputId": "68a8ddb8-a0d5-4119-cdd8-e681695aaf2e"
      },
      "execution_count": 10,
      "outputs": [
        {
          "output_type": "stream",
          "name": "stdout",
          "text": [
            "tensor(3)\n",
            "tensor(2)\n",
            "tensor([[   0,    1, 1080,    3,    4],\n",
            "        [   5,    6,    7,    8,    9]])\n"
          ]
        }
      ]
    },
    {
      "cell_type": "code",
      "source": [
        "## 張量的四則運算：\n",
        "\n",
        "tensor_a = torch.tensor([1, 2, 3, 4])\n",
        "tensor_b = torch.tensor([5, 6, 7, 8])\n",
        "tensor_a.add(tensor_b)"
      ],
      "metadata": {
        "id": "g-e_awJtXWdJ",
        "outputId": "ca627e16-6b83-4908-ca9b-c488a33a2678",
        "colab": {
          "base_uri": "https://localhost:8080/"
        }
      },
      "execution_count": 30,
      "outputs": [
        {
          "output_type": "execute_result",
          "data": {
            "text/plain": [
              "tensor([ 6,  8, 10, 12])"
            ]
          },
          "metadata": {},
          "execution_count": 30
        }
      ]
    },
    {
      "cell_type": "code",
      "source": [
        "## 張量相加--Addition ：( 可使用 + 號，或是 torch.add() 進行 )\n",
        "\n",
        "tensor_c = tensor_a + tensor_b\n",
        "tensor_d = torch.add(tensor_a, tensor_b)\n",
        "print(tensor_c)\n",
        "print(tensor_d)"
      ],
      "metadata": {
        "id": "HTr_dmU6Xt7L",
        "outputId": "230994ad-a1e0-4d0e-dad5-b4538d7915ab",
        "colab": {
          "base_uri": "https://localhost:8080/"
        }
      },
      "execution_count": 29,
      "outputs": [
        {
          "output_type": "stream",
          "name": "stdout",
          "text": [
            "tensor([11, 14, 17, 20])\n",
            "tensor([11, 14, 17, 20])\n"
          ]
        }
      ]
    },
    {
      "cell_type": "code",
      "source": [
        "## 張量相減--Subtraction ( 可使用 - 號，或是 torch.sub() 進行 )\n",
        "\n",
        "tensor_e = tensor_b - tensor_a\n",
        "tensor_f = torch.sub(tensor_b, tensor_a)\n",
        "print(tensor_e)\n",
        "print(tensor_f)"
      ],
      "metadata": {
        "id": "GWGKA3QCY8Mm",
        "outputId": "0432e64a-df2f-4d9c-e906-7ba0030c9260",
        "colab": {
          "base_uri": "https://localhost:8080/"
        }
      },
      "execution_count": 13,
      "outputs": [
        {
          "output_type": "stream",
          "name": "stdout",
          "text": [
            "tensor([4, 4, 4, 4])\n",
            "tensor([4, 4, 4, 4])\n"
          ]
        }
      ]
    },
    {
      "cell_type": "code",
      "source": [
        "## 張量相乘--Multiplication  ( 可使用 * 號，或是 torch.mul() 進行 )\n",
        "\n",
        "tensor_g = tensor_a * tensor_b\n",
        "tensor_h = torch.mul(tensor_a, tensor_b)\n",
        "print(tensor_g)\n",
        "print(tensor_h)"
      ],
      "metadata": {
        "id": "tkIqeKBJZxjW",
        "outputId": "ad21e730-bf75-4283-d395-18c62d8a4db7",
        "colab": {
          "base_uri": "https://localhost:8080/"
        }
      },
      "execution_count": 16,
      "outputs": [
        {
          "output_type": "stream",
          "name": "stdout",
          "text": [
            "tensor([ 5, 12, 21, 32])\n",
            "tensor([ 5, 12, 21, 32])\n"
          ]
        }
      ]
    },
    {
      "cell_type": "code",
      "source": [
        "## 張量相除--Division  ( 可使用 / 號，或是 torch.div() 進行 )\n",
        "\n",
        "tensor_i = tensor_b / tensor_a\n",
        "tensor_j = torch.div(tensor_b, tensor_a)\n",
        "print(tensor_i)\n",
        "print(tensor_j)"
      ],
      "metadata": {
        "id": "ODIoDOmUaruQ",
        "outputId": "3854fbae-9366-4a66-cb09-1097473462fe",
        "colab": {
          "base_uri": "https://localhost:8080/"
        }
      },
      "execution_count": 21,
      "outputs": [
        {
          "output_type": "stream",
          "name": "stdout",
          "text": [
            "tensor([5.0000, 3.0000, 2.3333, 2.0000])\n",
            "tensor([5.0000, 3.0000, 2.3333, 2.0000])\n"
          ]
        }
      ]
    },
    {
      "cell_type": "code",
      "source": [
        "## 張量取餘數--RemainderModulus  ( 可使用 % 號，或是 torch.div() 進行 )\n",
        "\n",
        "tensor_k = tensor_b % tensor_a\n",
        "tensor_l = torch.remainder(tensor_b, tensor_a)\n",
        "print(tensor_k)\n",
        "print(tensor_l)"
      ],
      "metadata": {
        "id": "AEy1lon4cynM",
        "outputId": "884431f5-d1ea-445c-9404-8aee929ba671",
        "colab": {
          "base_uri": "https://localhost:8080/"
        }
      },
      "execution_count": 23,
      "outputs": [
        {
          "output_type": "stream",
          "name": "stdout",
          "text": [
            "tensor([0, 0, 1, 0])\n",
            "tensor([0, 0, 1, 0])\n"
          ]
        }
      ]
    },
    {
      "cell_type": "code",
      "source": [
        "## 張量次方或指數--Exponents, Power\n",
        "\n",
        "tensor_m = torch.pow(tensor_a , tensor_b)\n",
        "print(tensor_m)\n"
      ],
      "metadata": {
        "id": "inCSIrMLdpuW",
        "outputId": "18e72d2c-6f71-485b-eb9f-dae9b4c0b778",
        "colab": {
          "base_uri": "https://localhost:8080/"
        }
      },
      "execution_count": 24,
      "outputs": [
        {
          "output_type": "stream",
          "name": "stdout",
          "text": [
            "tensor([    1,    64,  2187, 65536])\n",
            "tensor([1, 2, 3, 4])\n"
          ]
        }
      ]
    },
    {
      "cell_type": "code",
      "source": [
        "## 張量四則運算的另一種表示方法，以加法為例：( 在運算function後面加一個底線 add_() ，即可重新分配值，也就表示值已經改變了 )\n",
        "\n",
        "tensor_a.add(tensor_b)  ## tensor_a 未改變\n",
        "print(tensor_a.add(tensor_b))\n",
        "print(tensor_a)\n",
        "\n",
        "tensor_a.add_(tensor_b)  ## tensor_a 已改變\n",
        "print(tensor_a)"
      ],
      "metadata": {
        "id": "HM3AmSOFgGt9",
        "outputId": "299c958f-ce88-4764-eabc-15b6ceb82429",
        "colab": {
          "base_uri": "https://localhost:8080/"
        }
      },
      "execution_count": 33,
      "outputs": [
        {
          "output_type": "stream",
          "name": "stdout",
          "text": [
            "tensor([ 6,  8, 10, 12])\n",
            "tensor([1, 2, 3, 4])\n",
            "tensor([ 6,  8, 10, 12])\n"
          ]
        }
      ]
    }
  ]
}