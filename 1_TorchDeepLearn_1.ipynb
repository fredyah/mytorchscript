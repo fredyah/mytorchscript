{
  "nbformat": 4,
  "nbformat_minor": 0,
  "metadata": {
    "colab": {
      "provenance": [],
      "gpuType": "T4",
      "authorship_tag": "ABX9TyPmoOUFsEByWOKXW4JL/lon",
      "include_colab_link": true
    },
    "kernelspec": {
      "name": "python3",
      "display_name": "Python 3"
    },
    "language_info": {
      "name": "python"
    },
    "accelerator": "GPU"
  },
  "cells": [
    {
      "cell_type": "markdown",
      "metadata": {
        "id": "view-in-github",
        "colab_type": "text"
      },
      "source": [
        "<a href=\"https://colab.research.google.com/github/fredyah/mytorchscript/blob/main/1_TorchDeepLearn_1.ipynb\" target=\"_parent\"><img src=\"https://colab.research.google.com/assets/colab-badge.svg\" alt=\"Open In Colab\"/></a>"
      ]
    },
    {
      "cell_type": "code",
      "execution_count": 2,
      "metadata": {
        "id": "sPo90Pdu2h-i"
      },
      "outputs": [],
      "source": [
        "import torch\n",
        "import numpy as np\n",
        "\n",
        "\n"
      ]
    },
    {
      "cell_type": "code",
      "source": [
        "## Numpy建立矩陣的方式：(float64)\n",
        "\n",
        "np1 = np.random.rand(3, 4)\n",
        "print(np1)\n",
        "print(np1.dtype)"
      ],
      "metadata": {
        "colab": {
          "base_uri": "https://localhost:8080/"
        },
        "id": "0GBhFGPq4hSM",
        "outputId": "c9cd3fe3-a709-4448-cb9c-a883caf987c5"
      },
      "execution_count": 3,
      "outputs": [
        {
          "output_type": "stream",
          "name": "stdout",
          "text": [
            "[[0.82677308 0.46461887 0.75772479 0.98488954]\n",
            " [0.80418327 0.07667379 0.57791227 0.80309005]\n",
            " [0.14310139 0.50871746 0.94553405 0.23703314]]\n",
            "float64\n"
          ]
        }
      ]
    },
    {
      "cell_type": "code",
      "source": [
        "## Torch 建立矩陣的方式：(預設為float32)\n",
        "\n",
        "tensor_2d = torch.randn(3,4)\n",
        "print(tensor_2d)\n",
        "print(tensor_2d.dtype)\n",
        "\n",
        "tensor_3d = torch.zeros(2, 3, 4)\n",
        "print(tensor_3d)\n",
        "print(tensor_3d.dtype)"
      ],
      "metadata": {
        "colab": {
          "base_uri": "https://localhost:8080/"
        },
        "id": "mAKGJuIc4zT5",
        "outputId": "2191e585-22dc-45ad-a668-814942155584"
      },
      "execution_count": 4,
      "outputs": [
        {
          "output_type": "stream",
          "name": "stdout",
          "text": [
            "tensor([[ 0.8431,  0.7698, -0.1355,  1.3530],\n",
            "        [ 0.0046,  1.9851, -1.3188, -0.7744],\n",
            "        [ 0.6285, -1.4919, -1.1204,  0.2293]])\n",
            "torch.float32\n",
            "tensor([[[0., 0., 0., 0.],\n",
            "         [0., 0., 0., 0.],\n",
            "         [0., 0., 0., 0.]],\n",
            "\n",
            "        [[0., 0., 0., 0.],\n",
            "         [0., 0., 0., 0.],\n",
            "         [0., 0., 0., 0.]]])\n",
            "torch.float32\n"
          ]
        }
      ]
    },
    {
      "cell_type": "code",
      "source": [
        "## 將其他矩陣轉換成tensor矩陣\n",
        "\n",
        "my_tensor = torch.tensor(np1)\n",
        "print(my_tensor)\n",
        "print(my_tensor.dtype)\n"
      ],
      "metadata": {
        "colab": {
          "base_uri": "https://localhost:8080/"
        },
        "id": "O1QJkfgZ6kyY",
        "outputId": "b55b0d9f-ec56-4ef1-8bf3-779d9e0c5c7a"
      },
      "execution_count": 5,
      "outputs": [
        {
          "output_type": "stream",
          "name": "stdout",
          "text": [
            "tensor([[0.8268, 0.4646, 0.7577, 0.9849],\n",
            "        [0.8042, 0.0767, 0.5779, 0.8031],\n",
            "        [0.1431, 0.5087, 0.9455, 0.2370]], dtype=torch.float64)\n",
            "torch.float64\n"
          ]
        }
      ]
    },
    {
      "cell_type": "code",
      "source": [
        "## 生成一維張量的方式\n",
        "\n",
        "my_torch = torch.arange(10)\n",
        "print(my_torch)\n",
        "print(my_torch.dtype)\n",
        "\n",
        "my_torch = my_torch.reshape(2, 5)\n",
        "print(my_torch)\n",
        "print(my_torch.dtype)"
      ],
      "metadata": {
        "colab": {
          "base_uri": "https://localhost:8080/"
        },
        "id": "X8vvyBqZ9HGd",
        "outputId": "74444344-f0b8-4e78-dcf0-3e9d6e7fe542"
      },
      "execution_count": 6,
      "outputs": [
        {
          "output_type": "stream",
          "name": "stdout",
          "text": [
            "tensor([0, 1, 2, 3, 4, 5, 6, 7, 8, 9])\n",
            "torch.int64\n",
            "tensor([[0, 1, 2, 3, 4],\n",
            "        [5, 6, 7, 8, 9]])\n",
            "torch.int64\n"
          ]
        }
      ]
    },
    {
      "cell_type": "code",
      "source": [
        "## 另一種reshape方式，可避免錯誤(使用-1，程式會自動判斷數量)\n",
        "\n",
        "my_torch_2 = torch.arange(10)\n",
        "my_torch_2 = my_torch.reshape(2, -1)\n",
        "print(my_torch_2)\n",
        "print(my_torch_2.dtype)\n",
        "\n",
        "\n",
        "my_torch_3 = torch.arange(16)\n",
        "my_torch_3 = my_torch_3.reshape(2, -1, 2)\n",
        "print(my_torch_3)\n",
        "print(my_torch_3.dtype)"
      ],
      "metadata": {
        "colab": {
          "base_uri": "https://localhost:8080/"
        },
        "id": "1pFkb2tF_3ar",
        "outputId": "d02ccc36-37eb-4e22-e6eb-54d28a9b3cb0"
      },
      "execution_count": 7,
      "outputs": [
        {
          "output_type": "stream",
          "name": "stdout",
          "text": [
            "tensor([[0, 1, 2, 3, 4],\n",
            "        [5, 6, 7, 8, 9]])\n",
            "torch.int64\n",
            "tensor([[[ 0,  1],\n",
            "         [ 2,  3],\n",
            "         [ 4,  5],\n",
            "         [ 6,  7]],\n",
            "\n",
            "        [[ 8,  9],\n",
            "         [10, 11],\n",
            "         [12, 13],\n",
            "         [14, 15]]])\n",
            "torch.int64\n"
          ]
        }
      ]
    },
    {
      "cell_type": "code",
      "source": [
        "## View和reshape有點類似，用法如下：(使用view可以避免複製，更省內存，若是張量不連續，可加contiguous  --  .contiguous().view() )\n",
        "\n",
        "my_torch_5 = torch.arange(10)\n",
        "my_torch_5 = my_torch_5.view(2, 5)  ## my_torch_5.contiguous().view(2, 5)\n",
        "print(my_torch_5)"
      ],
      "metadata": {
        "colab": {
          "base_uri": "https://localhost:8080/"
        },
        "id": "Bg10SOsrM_FJ",
        "outputId": "5c41732d-9d50-44fa-b1db-30a6ddc0a7f9"
      },
      "execution_count": 21,
      "outputs": [
        {
          "output_type": "stream",
          "name": "stdout",
          "text": [
            "tensor([[0, 1, 2, 3, 4],\n",
            "        [5, 6, 7, 8, 9]])\n"
          ]
        }
      ]
    },
    {
      "cell_type": "code",
      "source": [
        "print(my_torch_5[0, -2])\n",
        "\n",
        "print(my_torch_5[0, 2])\n",
        "my_torch_5[0, 2] = 1080\n",
        "print(my_torch_5)"
      ],
      "metadata": {
        "colab": {
          "base_uri": "https://localhost:8080/"
        },
        "id": "2YIB-k3gQ8bj",
        "outputId": "39cc8917-d787-47cb-e9a3-0d682d48b79b"
      },
      "execution_count": 22,
      "outputs": [
        {
          "output_type": "stream",
          "name": "stdout",
          "text": [
            "tensor(3)\n",
            "tensor(2)\n",
            "tensor([[   0,    1, 1080,    3,    4],\n",
            "        [   5,    6,    7,    8,    9]])\n"
          ]
        }
      ]
    }
  ]
}