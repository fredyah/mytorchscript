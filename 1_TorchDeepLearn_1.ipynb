{
  "nbformat": 4,
  "nbformat_minor": 0,
  "metadata": {
    "colab": {
      "provenance": [],
      "gpuType": "T4",
      "authorship_tag": "ABX9TyO1vsPjHGZjeGI+24kOkcbU",
      "include_colab_link": true
    },
    "kernelspec": {
      "name": "python3",
      "display_name": "Python 3"
    },
    "language_info": {
      "name": "python"
    },
    "accelerator": "GPU"
  },
  "cells": [
    {
      "cell_type": "markdown",
      "metadata": {
        "id": "view-in-github",
        "colab_type": "text"
      },
      "source": [
        "<a href=\"https://colab.research.google.com/github/fredyah/mytorchscript/blob/main/1_TorchDeepLearn_1.ipynb\" target=\"_parent\"><img src=\"https://colab.research.google.com/assets/colab-badge.svg\" alt=\"Open In Colab\"/></a>"
      ]
    },
    {
      "cell_type": "code",
      "execution_count": 4,
      "metadata": {
        "id": "sPo90Pdu2h-i",
        "colab": {
          "base_uri": "https://localhost:8080/"
        },
        "outputId": "aefad411-3971-474f-fb3c-e8e33feed5cb"
      },
      "outputs": [
        {
          "output_type": "stream",
          "name": "stdout",
          "text": [
            "[[0.44017193 0.2896171  0.2781134  0.2108928 ]\n",
            " [0.70026434 0.32146555 0.59892098 0.42764737]\n",
            " [0.58467222 0.73937179 0.87984711 0.77971868]]\n",
            "float64\n"
          ]
        }
      ],
      "source": [
        "import torch\n",
        "import numpy as np\n",
        "\n",
        "\n"
      ]
    },
    {
      "cell_type": "code",
      "source": [
        "## Numpy建立矩陣的方式：(float64)\n",
        "\n",
        "np1 = np.random.rand(3, 4)\n",
        "print(np1)\n",
        "print(np1.dtype)"
      ],
      "metadata": {
        "colab": {
          "base_uri": "https://localhost:8080/"
        },
        "id": "0GBhFGPq4hSM",
        "outputId": "e2abfe02-c4c6-45f5-e836-0eeedfcc8970"
      },
      "execution_count": 5,
      "outputs": [
        {
          "output_type": "stream",
          "name": "stdout",
          "text": [
            "[[0.66322863 0.34725086 0.5027007  0.67676785]\n",
            " [0.32687253 0.47288306 0.17705763 0.79866202]\n",
            " [0.77053578 0.47992365 0.26414656 0.21817079]]\n",
            "float64\n"
          ]
        }
      ]
    },
    {
      "cell_type": "code",
      "source": [
        "## Torch 建立矩陣的方式：(預設為float32)\n",
        "\n",
        "tensor_2d = torch.randn(3,4)\n",
        "print(tensor_2d)\n",
        "print(tensor_2d.dtype)\n",
        "\n",
        "tensor_3d = torch.zeros(2, 3, 4)\n",
        "print(tensor_3d)\n",
        "print(tensor_3d.dtype)"
      ],
      "metadata": {
        "colab": {
          "base_uri": "https://localhost:8080/"
        },
        "id": "mAKGJuIc4zT5",
        "outputId": "316c39e0-c375-4d4f-d46a-e8f66f8b73d6"
      },
      "execution_count": 8,
      "outputs": [
        {
          "output_type": "stream",
          "name": "stdout",
          "text": [
            "tensor([[ 1.2086,  0.0422, -0.3631,  0.0054],\n",
            "        [-1.3442, -1.2822,  0.2444, -0.3586],\n",
            "        [ 0.5400,  1.0452, -0.3485, -0.0525]])\n",
            "torch.float32\n",
            "tensor([[[0., 0., 0., 0.],\n",
            "         [0., 0., 0., 0.],\n",
            "         [0., 0., 0., 0.]],\n",
            "\n",
            "        [[0., 0., 0., 0.],\n",
            "         [0., 0., 0., 0.],\n",
            "         [0., 0., 0., 0.]]])\n",
            "torch.float32\n"
          ]
        }
      ]
    },
    {
      "cell_type": "code",
      "source": [
        "## 將其他矩陣轉換成tensor矩陣\n",
        "\n",
        "my_tensor = torch.tensor(np1)\n",
        "print(my_tensor)\n",
        "print(my_tensor.dtype)\n"
      ],
      "metadata": {
        "colab": {
          "base_uri": "https://localhost:8080/"
        },
        "id": "O1QJkfgZ6kyY",
        "outputId": "35646e56-563a-4758-e5ec-081bdb1e8f64"
      },
      "execution_count": 11,
      "outputs": [
        {
          "output_type": "stream",
          "name": "stdout",
          "text": [
            "tensor([[0.6632, 0.3473, 0.5027, 0.6768],\n",
            "        [0.3269, 0.4729, 0.1771, 0.7987],\n",
            "        [0.7705, 0.4799, 0.2641, 0.2182]], dtype=torch.float64)\n",
            "torch.float64\n"
          ]
        }
      ]
    }
  ]
}